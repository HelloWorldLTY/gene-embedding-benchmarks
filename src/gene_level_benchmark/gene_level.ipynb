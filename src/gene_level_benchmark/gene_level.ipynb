{
 "cells": [
  {
   "cell_type": "code",
   "execution_count": null,
   "metadata": {},
   "outputs": [],
   "source": [
    "import helper\n",
    "import pickle"
   ]
  },
  {
   "cell_type": "code",
   "execution_count": null,
   "metadata": {},
   "outputs": [],
   "source": [
    "reindexed_embeddings, gene_lists, reference_node2index, reference_genes = helper.get_embeddings()"
   ]
  },
  {
   "cell_type": "code",
   "execution_count": null,
   "metadata": {},
   "outputs": [],
   "source": []
  },
  {
   "cell_type": "code",
   "execution_count": null,
   "metadata": {},
   "outputs": [],
   "source": [
    "doid_prop_use, doid_slim_use, doid_to_slim, graph, filtered_doid_to_slim = helper.load_annotations(reference_genes, gmt_direct ='data/omim.20231030.direct.gmt', gmt_prop = 'data/omim.20231030.prop.gmt', slim = 'data/omim_slim.txt', obo = '/doid.obo')\n",
    "holdout_dict, cv_fold1_dict, cv_fold2_dict, cv_fold3_dict = helper.fold_split(doid_prop_use, doid_slim_use, doid_to_slim)\n",
    "\n",
    "file_names = [\"omim_cv_fold1_dict.pkl\", \"omim_cv_fold2_dict.pkl\", \"omim_cv_fold3_dict.pkl\", \"omim_holdout_dict.pkl\"]\n",
    "data_dicts = [cv_fold1_dict, cv_fold2_dict, cv_fold3_dict, holdout_dict]\n",
    "\n",
    "for file_name, data_dict in zip(file_names, data_dicts):\n",
    "    with open(file_name, 'wb') as f:\n",
    "        pickle.dump(data_dict, f)\n",
    "\n",
    "file_names"
   ]
  },
  {
   "cell_type": "code",
   "execution_count": null,
   "metadata": {},
   "outputs": [],
   "source": [
    "all_fold_results, all_holdout_results = helper.run_benchmark(reindexed_embeddings, cv_fold1_dict, cv_fold2_dict, cv_fold3_dict, holdout_dict)\n",
    "\n",
    "with open('omim_all_fold_results.pkl', 'wb') as f:\n",
    "    pickle.dump(all_fold_results, f)\n",
    "\n",
    "with open('omim_all_holdout_results.pkl', 'wb') as f:\n",
    "    pickle.dump(all_holdout_results, f)\n",
    "\n",
    "df_summary_with_meta, fold_auc_df, fold_auprc_df, fold_pr10_df, holdout_auc_df, holdout_auprc_df, holdout_pr10_df, holdout_time_df = helper.reformat_results(all_fold_results, all_holdout_results)"
   ]
  },
  {
   "cell_type": "code",
   "execution_count": null,
   "metadata": {},
   "outputs": [],
   "source": [
    "helper.plot_scatter(holdout_auc_df)\n",
    "helper.anova(df_summary_with_meta)\n",
    "\n",
    "g = helper.plot_slim_clustermap(df=fold_auc_df.loc[fold_auc_df.mean(axis=1).sort_values(ascending=False).index], graph=graph, filtered_annot_to_slim=filtered_doid_to_slim, title='OMIM Fold AUC', legend=True)\n",
    "g = helper.plot_slim_clustermap(df=fold_auprc_df.loc[fold_auprc_df.mean(axis=1).sort_values(ascending=False).index], graph=graph, filtered_annot_to_slim=filtered_doid_to_slim, title='OMIM Fold AUPRC', legend=True)\n",
    "g = helper.plot_slim_clustermap(df=fold_pr10_df.loc[fold_pr10_df.mean(axis=1).sort_values(ascending=False).index], graph=graph, filtered_annot_to_slim=filtered_doid_to_slim, title='OMIM Fold PR@10', legend=True)\n",
    "g = helper.plot_slim_clustermap(df=holdout_auc_df.loc[holdout_auc_df.mean(axis=1).sort_values(ascending=False).index], graph=graph, filtered_annot_to_slim=filtered_doid_to_slim, title='OMIM Holdout AUC', legend=True)\n",
    "g = helper.plot_slim_clustermap(df=holdout_auprc_df.loc[holdout_auprc_df.mean(axis=1).sort_values(ascending=False).index], graph=graph, filtered_annot_to_slim=filtered_doid_to_slim, title='OMIM Holdout AUPRC', legend=True)\n",
    "g = helper.plot_slim_clustermap(df=holdout_pr10_df.loc[holdout_pr10_df.mean(axis=1).sort_values(ascending=False).index], graph=graph, filtered_annot_to_slim=filtered_doid_to_slim, title='OMIM Holdout PR@10', legend=True)\n"
   ]
  },
  {
   "cell_type": "code",
   "execution_count": null,
   "metadata": {},
   "outputs": [],
   "source": []
  },
  {
   "cell_type": "code",
   "execution_count": null,
   "metadata": {},
   "outputs": [],
   "source": [
    "go_prop_use, go_slim_use, go_to_slim, graph, filtered_go_to_slim = helper.load_annotations(reference_genes, gmt_direct ='/hsa_ALL_BP_direct.gmt', gmt_prop = '/hsa_ALL_BP_prop.gmt', slim = '/goslim_agr.tsv', obo = '/go.obo')\n",
    "holdout_dict, cv_fold1_dict, cv_fold2_dict, cv_fold3_dict = helper.fold_split(doid_prop_use, doid_slim_use, doid_to_slim)\n",
    "\n",
    "file_names = [\"go_cv_fold1_dict.pkl\", \"go_cv_fold2_dict.pkl\", \"go_cv_fold3_dict.pkl\", \"go_holdout_dict.pkl\"]\n",
    "data_dicts = [cv_fold1_dict, cv_fold2_dict, cv_fold3_dict, holdout_dict]\n",
    "\n",
    "for file_name, data_dict in zip(file_names, data_dicts):\n",
    "    with open(file_name, 'wb') as f:\n",
    "        pickle.dump(data_dict, f)\n",
    "\n",
    "file_names"
   ]
  },
  {
   "cell_type": "code",
   "execution_count": null,
   "metadata": {},
   "outputs": [],
   "source": [
    "all_fold_results, all_holdout_results = helper.run_benchmark(reindexed_embeddings, cv_fold1_dict, cv_fold2_dict, cv_fold3_dict, holdout_dict)\n",
    "\n",
    "with open('go_all_fold_results.pkl', 'wb') as f:\n",
    "    pickle.dump(all_fold_results, f)\n",
    "\n",
    "with open('go_all_holdout_results.pkl', 'wb') as f:\n",
    "    pickle.dump(all_holdout_results, f)\n",
    "\n",
    "df_summary_with_meta, fold_auc_df, fold_auprc_df, fold_pr10_df, holdout_auc_df, holdout_auprc_df, holdout_pr10_df, holdout_time_df = helper.reformat_results(all_fold_results, all_holdout_results)"
   ]
  },
  {
   "cell_type": "code",
   "execution_count": null,
   "metadata": {},
   "outputs": [],
   "source": [
    "helper.plot_scatter(holdout_auc_df)\n",
    "helper.anova(df_summary_with_meta)\n",
    "\n",
    "g = helper.plot_slim_clustermap(df=fold_auc_df.loc[fold_auc_df.mean(axis=1).sort_values(ascending=False).index], graph=graph, filtered_annot_to_slim=filtered_doid_to_slim, title='GO Fold AUC', legend=True)\n",
    "g = helper.plot_slim_clustermap(df=fold_auprc_df.loc[fold_auprc_df.mean(axis=1).sort_values(ascending=False).index], graph=graph, filtered_annot_to_slim=filtered_doid_to_slim, title='GO Fold AUPRC', legend=True)\n",
    "g = helper.plot_slim_clustermap(df=fold_pr10_df.loc[fold_pr10_df.mean(axis=1).sort_values(ascending=False).index], graph=graph, filtered_annot_to_slim=filtered_doid_to_slim, title='GO Fold PR@10', legend=True)\n",
    "g = helper.plot_slim_clustermap(df=holdout_auc_df.loc[holdout_auc_df.mean(axis=1).sort_values(ascending=False).index], graph=graph, filtered_annot_to_slim=filtered_doid_to_slim, title='GO Holdout AUC', legend=True)\n",
    "g = helper.plot_slim_clustermap(df=holdout_auprc_df.loc[holdout_auprc_df.mean(axis=1).sort_values(ascending=False).index], graph=graph, filtered_annot_to_slim=filtered_doid_to_slim, title='GO Holdout AUPRC', legend=True)\n",
    "g = helper.plot_slim_clustermap(df=holdout_pr10_df.loc[holdout_pr10_df.mean(axis=1).sort_values(ascending=False).index], graph=graph, filtered_annot_to_slim=filtered_doid_to_slim, title='GO Holdout PR@10', legend=True)\n"
   ]
  },
  {
   "cell_type": "code",
   "execution_count": null,
   "metadata": {},
   "outputs": [],
   "source": []
  },
  {
   "cell_type": "code",
   "execution_count": null,
   "metadata": {},
   "outputs": [],
   "source": [
    "go_prop_use, go_slim_use, go_to_slim, graph, filtered_go_to_slim = helper.load_annotations(reference_genes, gmt_direct ='/2020_hsa_ALL_BP_direct_fixed.gmt\"', gmt_prop = '2020_hsa_ALL_BP_prop_fixed.gmt\"', slim = '/goslim_agr.tsv', obo = '/go.obo')\n",
    "holdout_dict, cv_fold1_dict, cv_fold2_dict, cv_fold3_dict = helper.fold_split(doid_prop_use, doid_slim_use, doid_to_slim)\n",
    "\n",
    "file_names = [\"go2020_cv_fold1_dict.pkl\", \"go2020_cv_fold2_dict.pkl\", \"go2020_cv_fold3_dict.pkl\", \"go2020_holdout_dict.pkl\"]\n",
    "data_dicts = [cv_fold1_dict, cv_fold2_dict, cv_fold3_dict, holdout_dict]\n",
    "\n",
    "for file_name, data_dict in zip(file_names, data_dicts):\n",
    "    with open(file_name, 'wb') as f:\n",
    "        pickle.dump(data_dict, f)\n",
    "\n",
    "file_names"
   ]
  },
  {
   "cell_type": "code",
   "execution_count": null,
   "metadata": {},
   "outputs": [],
   "source": [
    "all_fold_results, all_holdout_results = helper.run_benchmark(reindexed_embeddings, cv_fold1_dict, cv_fold2_dict, cv_fold3_dict, holdout_dict)\n",
    "\n",
    "with open('go2020_all_fold_results.pkl', 'wb') as f:\n",
    "    pickle.dump(all_fold_results, f)\n",
    "\n",
    "with open('go2020_all_holdout_results.pkl', 'wb') as f:\n",
    "    pickle.dump(all_holdout_results, f)\n",
    "\n",
    "df_summary_with_meta, fold_auc_df, fold_auprc_df, fold_pr10_df, holdout_auc_df, holdout_auprc_df, holdout_pr10_df, holdout_time_df = helper.reformat_results(all_fold_results, all_holdout_results)"
   ]
  },
  {
   "cell_type": "code",
   "execution_count": null,
   "metadata": {},
   "outputs": [],
   "source": [
    "helper.plot_scatter(holdout_auc_df)\n",
    "helper.anova(df_summary_with_meta)\n",
    "\n",
    "g = helper.plot_slim_clustermap(df=fold_auc_df.loc[fold_auc_df.mean(axis=1).sort_values(ascending=False).index], graph=graph, filtered_annot_to_slim=filtered_doid_to_slim, title='GO 2020 Fold AUC', legend=True)\n",
    "g = helper.plot_slim_clustermap(df=fold_auprc_df.loc[fold_auprc_df.mean(axis=1).sort_values(ascending=False).index], graph=graph, filtered_annot_to_slim=filtered_doid_to_slim, title='GO 2020 Fold AUPRC', legend=True)\n",
    "g = helper.plot_slim_clustermap(df=fold_pr10_df.loc[fold_pr10_df.mean(axis=1).sort_values(ascending=False).index], graph=graph, filtered_annot_to_slim=filtered_doid_to_slim, title='GO 2020 Fold PR@10', legend=True)\n",
    "g = helper.plot_slim_clustermap(df=holdout_auc_df.loc[holdout_auc_df.mean(axis=1).sort_values(ascending=False).index], graph=graph, filtered_annot_to_slim=filtered_doid_to_slim, title='GO 2020 Holdout AUC', legend=True)\n",
    "g = helper.plot_slim_clustermap(df=holdout_auprc_df.loc[holdout_auprc_df.mean(axis=1).sort_values(ascending=False).index], graph=graph, filtered_annot_to_slim=filtered_doid_to_slim, title='GO 2020 Holdout AUPRC', legend=True)\n",
    "g = helper.plot_slim_clustermap(df=holdout_pr10_df.loc[holdout_pr10_df.mean(axis=1).sort_values(ascending=False).index], graph=graph, filtered_annot_to_slim=filtered_doid_to_slim, title='GO 2020 Holdout PR@10', legend=True)\n"
   ]
  }
 ],
 "metadata": {
  "language_info": {
   "name": "python"
  }
 },
 "nbformat": 4,
 "nbformat_minor": 2
}
