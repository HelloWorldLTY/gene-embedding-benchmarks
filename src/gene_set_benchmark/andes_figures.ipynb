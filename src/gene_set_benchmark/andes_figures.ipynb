{
 "cells": [
  {
   "cell_type": "code",
   "execution_count": null,
   "metadata": {},
   "outputs": [],
   "source": [
    "import pandas as pd\n",
    "import numpy as np\n",
    "import sklearn.metrics as metrics\n",
    "import pickle\n",
    "from collections import defaultdict\n",
    "import matplotlib.pyplot as plt\n",
    "import seaborn as sns\n",
    "from matplotlib.pyplot import figure\n",
    "import matplotlib.patches as mpatches\n",
    "import helper as helper"
   ]
  },
  {
   "cell_type": "code",
   "execution_count": null,
   "metadata": {},
   "outputs": [],
   "source": [
    "matched_pairs = []\n",
    "with open('data/matched_pairs/matched_pair_kegg_go.txt', 'r') as f:  # data/matched_pairs/matched_list_bto_doid.txt \n",
    "    for line in f:\n",
    "        tokens = line.strip().split('\\t')\n",
    "        matched_pairs.append((tokens[0], tokens[1]))"
   ]
  },
  {
   "cell_type": "code",
   "execution_count": null,
   "metadata": {},
   "outputs": [],
   "source": [
    "selected_kegg_terms = sorted(list(set([x for x,y in matched_pairs])))\n",
    "selected_go_terms = sorted(list(set([y for x,y in matched_pairs])))\n",
    "print(len(selected_kegg_terms), len(selected_go_terms))"
   ]
  },
  {
   "cell_type": "code",
   "execution_count": null,
   "metadata": {},
   "outputs": [],
   "source": [
    "labels = np.zeros((len(selected_kegg_terms), len(selected_go_terms)))\n",
    "for i,x in enumerate(selected_kegg_terms):\n",
    "    for j,y in enumerate(selected_go_terms):\n",
    "        if (x,y) in matched_pairs:\n",
    "            labels[i][j] = 1"
   ]
  },
  {
   "cell_type": "code",
   "execution_count": null,
   "metadata": {},
   "outputs": [],
   "source": [
    "andes_data, embed_names = helper.load_kegg_go_data('/results/andes_out', selected_kegg_terms, selected_go_terms)\n",
    "andes_data_results = pd.DataFrame(50-(np.array(helper.generate_kegg_go_result(andes_data, labels))).T)"
   ]
  },
  {
   "cell_type": "code",
   "execution_count": null,
   "metadata": {},
   "outputs": [],
   "source": [
    "means = andes_data_results.mean()\n",
    "sorted_indices = np.argsort(means)[::-1]\n",
    "andes_data_sorted = andes_data_results.iloc[:, sorted_indices]\n",
    "cleaned_embed_names_sorted = [embed_names[i] for i in sorted_indices]\n",
    "\n",
    "meta_df = pd.read_csv('z_benchmark_embed_meta.csv', index_col=0, encoding='utf-8')\n",
    "meta_df.index = meta_df.index.str.replace(r'\\s+', '', regex=True)\n",
    "\n",
    "color_map = {\n",
    "    'gene expression (bulk)': \"#920015\",\n",
    "    'gene expression (single cell)': \"#ef476f\",\n",
    "    'amino acid sequence': \"#ffd166\",\n",
    "    'PPI': \"#06d6a0\",\n",
    "    'biomedical literature': \"#118ab2\",\n",
    "    'mutation profile, biomedical literature, PPI': \"#073b4c\"\n",
    "}\n",
    "\n",
    "cleaned_embed_names = [i for i in embed_names]\n",
    "\n",
    "categories_sorted = [\n",
    "    meta_df.loc[meta_df.index == name, 'Category'].values[0]\n",
    "    for name in cleaned_embed_names\n",
    "]\n",
    "\n",
    "palette = [color_map[cat] for cat in categories_sorted]"
   ]
  },
  {
   "cell_type": "code",
   "execution_count": null,
   "metadata": {},
   "outputs": [],
   "source": [
    "plt.figure(figsize=(8, 15))\n",
    "\n",
    "sns.boxplot(\n",
    "    data=andes_data_sorted,\n",
    "    orient=\"h\",\n",
    "    order=sorted_indices[::-1],\n",
    "    palette=palette,\n",
    "    width=.5 \n",
    ")\n",
    "\n",
    "plt.yticks(\n",
    "    range(len(cleaned_embed_names_sorted)),\n",
    "    cleaned_embed_names_sorted[::-1],\n",
    "    fontsize=15\n",
    ")\n",
    "plt.title('KEGG-GO', fontsize=20)\n",
    "plt.xlabel('Rank', fontsize=17)\n",
    "plt.ylabel('', fontsize=17)\n",
    "\n",
    "\n",
    "plt.tight_layout()\n",
    "\n",
    "plt.savefig(\"/results/plots/kegg_go_andes.pdf\", format=\"pdf\", bbox_inches=\"tight\")\n",
    "\n",
    "plt.show()"
   ]
  }
 ],
 "metadata": {
  "language_info": {
   "name": "python"
  }
 },
 "nbformat": 4,
 "nbformat_minor": 2
}
